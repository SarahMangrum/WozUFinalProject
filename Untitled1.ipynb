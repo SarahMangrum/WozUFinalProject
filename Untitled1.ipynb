{
 "cells": [
  {
   "cell_type": "code",
   "execution_count": 2,
   "id": "08e24e30-2dce-4079-aff9-c650235424fd",
   "metadata": {},
   "outputs": [],
   "source": [
    "import pandas as pd\n",
    "import numpy as np"
   ]
  },
  {
   "cell_type": "code",
   "execution_count": 3,
   "id": "7b4d58fc-55b6-413a-8222-8cfc86d8ef39",
   "metadata": {},
   "outputs": [],
   "source": [
    "attrition = pd.read_csv('Final_dataset_Attrition.csv')"
   ]
  },
  {
   "cell_type": "code",
   "execution_count": 5,
   "id": "5dd393aa-5e3a-4bef-8deb-73468be1fb37",
   "metadata": {},
   "outputs": [
    {
     "data": {
      "text/plain": [
       "27-06-2020    5\n",
       "17-02-2016    5\n",
       "13-02-2013    4\n",
       "27-04-2018    4\n",
       "14-03-2016    4\n",
       "             ..\n",
       "27-05-2016    1\n",
       "27-06-2016    1\n",
       "16-04-2020    1\n",
       "15-03-2007    1\n",
       "10-01-2011    1\n",
       "Name: Date_of_Hire, Length: 1112, dtype: int64"
      ]
     },
     "execution_count": 5,
     "metadata": {},
     "output_type": "execute_result"
    }
   ],
   "source": [
    "attrition['Date_of_Hire'].value_counts()"
   ]
  },
  {
   "cell_type": "code",
   "execution_count": 8,
   "id": "439ebaec-3d1f-445d-ba54-dd2b4b7d83d9",
   "metadata": {},
   "outputs": [
    {
     "data": {
      "text/plain": [
       "count           1470\n",
       "unique          1112\n",
       "top       27-06-2020\n",
       "freq               5\n",
       "Name: Date_of_Hire, dtype: object"
      ]
     },
     "execution_count": 8,
     "metadata": {},
     "output_type": "execute_result"
    }
   ],
   "source": [
    "attrition['Date_of_Hire'].describe()"
   ]
  },
  {
   "cell_type": "code",
   "execution_count": 11,
   "id": "36cb8197-fe9e-4ea7-9c89-35b5139bc66b",
   "metadata": {},
   "outputs": [
    {
     "data": {
      "text/plain": [
       "'01-01-2001'"
      ]
     },
     "execution_count": 11,
     "metadata": {},
     "output_type": "execute_result"
    }
   ],
   "source": [
    "attrition['Date_of_Hire'].min()"
   ]
  },
  {
   "cell_type": "code",
   "execution_count": 12,
   "id": "f5353f33-58f4-43df-89c0-4d75c55e8b21",
   "metadata": {},
   "outputs": [
    {
     "data": {
      "text/plain": [
       "'31-05-2020'"
      ]
     },
     "execution_count": 12,
     "metadata": {},
     "output_type": "execute_result"
    }
   ],
   "source": [
    "attrition['Date_of_Hire'].max()"
   ]
  },
  {
   "cell_type": "code",
   "execution_count": null,
   "id": "df793221-f8c5-4754-928d-3d6df67e7293",
   "metadata": {},
   "outputs": [],
   "source": []
  }
 ],
 "metadata": {
  "kernelspec": {
   "display_name": "Python 3",
   "language": "python",
   "name": "python3"
  },
  "language_info": {
   "codemirror_mode": {
    "name": "ipython",
    "version": 3
   },
   "file_extension": ".py",
   "mimetype": "text/x-python",
   "name": "python",
   "nbconvert_exporter": "python",
   "pygments_lexer": "ipython3",
   "version": "3.8.8"
  }
 },
 "nbformat": 4,
 "nbformat_minor": 5
}
