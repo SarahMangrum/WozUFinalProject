{
 "cells": [
  {
   "cell_type": "markdown",
   "id": "35c67ae1-79b8-4e8e-9e7e-55f58e764945",
   "metadata": {},
   "source": [
    "# Woz U Data Science Program\n",
    "# Final Project\n",
    "# Leo Jacquez and Sarah Mangrum"
   ]
  },
  {
   "cell_type": "markdown",
   "id": "0e84ed6a-6d9d-444b-81eb-023e91095510",
   "metadata": {},
   "source": [
    "# Import Packages"
   ]
  },
  {
   "cell_type": "code",
   "execution_count": 2,
   "id": "e6f6e65e-2d56-43f7-936f-509eb2dd962f",
   "metadata": {},
   "outputs": [],
   "source": [
    "import numpy as np\n",
    "import pandas as pd\n",
    "%matplotlib inline\n",
    "import matplotlib.pyplot as plt\n",
    "import seaborn; seaborn.set()  # set plot style"
   ]
  },
  {
   "cell_type": "markdown",
   "id": "f5c92732-ccc2-4f90-8827-e3a418eead17",
   "metadata": {},
   "source": [
    "# Import Data"
   ]
  },
  {
   "cell_type": "code",
   "execution_count": 6,
   "id": "851a0a27-7067-47b8-8efb-709cd51ff087",
   "metadata": {},
   "outputs": [],
   "source": [
    "attrition = pd.read_csv('Final_dataset_Attrition.csv')"
   ]
  },
  {
   "cell_type": "code",
   "execution_count": 46,
   "id": "ae0c1b99-de88-40ca-8602-05ab9a6b886d",
   "metadata": {
    "scrolled": true
   },
   "outputs": [],
   "source": [
    "# Recode function for Age\n",
    "def Age(a):\n",
    "    if a <= 22:\n",
    "        return 1\n",
    "    elif a > 22 and a <= 38:\n",
    "        return 2\n",
    "    elif a > 38 and a <= 54:\n",
    "        return 3\n",
    "    elif a >54:\n",
    "        return 4\n",
    "    else:\n",
    "        return 5\n"
   ]
  },
  {
   "cell_type": "code",
   "execution_count": 48,
   "id": "5ba8874c",
   "metadata": {},
   "outputs": [],
   "source": [
    "# Recode function for Department\n",
    "def Dep(a):\n",
    "    if a == \"Research & Development\":\n",
    "        return 1\n",
    "    elif a == \"Sales\":\n",
    "        return 2\n",
    "    elif a == \"Human Resources\":\n",
    "        return 3\n",
    "    else:\n",
    "        return False"
   ]
  },
  {
   "cell_type": "code",
   "execution_count": 66,
   "id": "0d0e16bb",
   "metadata": {},
   "outputs": [],
   "source": [
    "# Recode function for Distance From Home\n",
    "def DistanceFromHome(d):\n",
    "    if d <= 5:\n",
    "        return 1\n",
    "    elif d > 5 and d <= 10:\n",
    "        return 2\n",
    "    elif d > 10 and d <= 15:\n",
    "        return 3\n",
    "    elif d > 15 and d <= 20:\n",
    "        return 4\n",
    "    elif d > 20 and d <= 25:\n",
    "        return 5\n",
    "    elif d > 25 and d <= 30:\n",
    "        return 6\n",
    "    else:\n",
    "        return 7"
   ]
  },
  {
   "cell_type": "markdown",
   "id": "6598188a",
   "metadata": {},
   "source": [
    "\n",
    "## Age recode:\n",
    "* 1 = Less than 22 = Gen Z\n",
    "* 2 = 23-38 = Millenials \n",
    "* 3 = 39-54 = Gen X\n",
    "* 4 = 55+ = Boomers\n",
    "## Department Recode\n",
    "* 1 = Research & Development\n",
    "* 2 = Sales\n",
    "* 3 = Human Resources\n",
    "## Distance From Home Recode\n",
    "* 1 = less than 5\n",
    "* 2 = 6-10\n",
    "* 3 = 11-15\n",
    "* 4 = 16-20\n",
    "* 5 = 21-25\n",
    "* 6 = 26-30\n",
    "* 7 = anything that doesn't"
   ]
  },
  {
   "cell_type": "code",
   "execution_count": 49,
   "id": "30d8dcd6",
   "metadata": {},
   "outputs": [],
   "source": [
    "# Code to create new columns with the changed variables\n",
    "attrition['AgeR'] = attrition['Age'].apply(Age)\n",
    "attrition['DepartmentR'] = attrition['Department'].apply(Dep)\n",
    "attrition['DistanceFromHomeR'] = attrition['DistanceFromHome'].apply(DistanceFromHome)"
   ]
  },
  {
   "cell_type": "code",
   "execution_count": null,
   "id": "413df79a",
   "metadata": {},
   "outputs": [],
   "source": []
  }
 ],
 "metadata": {
  "kernelspec": {
   "display_name": "Python 3",
   "language": "python",
   "name": "python3"
  },
  "language_info": {
   "codemirror_mode": {
    "name": "ipython",
    "version": 3
   },
   "file_extension": ".py",
   "mimetype": "text/x-python",
   "name": "python",
   "nbconvert_exporter": "python",
   "pygments_lexer": "ipython3",
   "version": "3.8.8"
  }
 },
 "nbformat": 4,
 "nbformat_minor": 5
}
