{
 "cells": [
  {
   "cell_type": "code",
   "execution_count": null,
   "id": "4f54e2eb-41ae-46d5-91a8-4cc7b2501470",
   "metadata": {},
   "outputs": [],
   "source": [
    "\n"
   ]
  },
  {
   "cell_type": "code",
   "execution_count": null,
   "id": "968c4918-f5bc-4103-82b0-148386978410",
   "metadata": {},
   "outputs": [],
   "source": [
    "attrition = pd.read_csv('Final_dataset_Attrition.csv')"
   ]
  },
  {
   "cell_type": "code",
   "execution_count": null,
   "id": "0c8c7824-a9de-482b-b351-ffee2709207d",
   "metadata": {},
   "outputs": [],
   "source": []
  },
  {
   "cell_type": "code",
   "execution_count": null,
   "id": "f1cab776-a298-4528-9d76-076738e0bc02",
   "metadata": {},
   "outputs": [],
   "source": []
  },
  {
   "cell_type": "code",
   "execution_count": null,
   "id": "726d6212-dab5-48da-ae55-b78986809059",
   "metadata": {},
   "outputs": [],
   "source": []
  },
  {
   "cell_type": "code",
   "execution_count": null,
   "id": "f2a15b9f-12e5-43a5-a1ea-610c38d445d6",
   "metadata": {},
   "outputs": [],
   "source": []
  }
 ],
 "metadata": {
  "kernelspec": {
   "display_name": "",
   "name": ""
  },
  "language_info": {
   "name": ""
  }
 },
 "nbformat": 4,
 "nbformat_minor": 5
}
