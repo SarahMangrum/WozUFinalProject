{
 "cells": [
  {
   "cell_type": "markdown",
   "id": "f9169bd0-35ad-400d-9e55-1cfbf076d822",
   "metadata": {},
   "source": [
    "# Woz U Data Science Program\n",
    "## Final Project\n",
    "## Leo Jacquez and Sarah Mangrum"
   ]
  },
  {
   "cell_type": "markdown",
   "id": "02f490ee-3621-4716-8fd5-65e4119edf88",
   "metadata": {},
   "source": [
    "# Import Packages"
   ]
  },
  {
   "cell_type": "code",
   "execution_count": 2,
   "id": "2802e08e-65a4-42a6-88aa-4bea38f0a469",
   "metadata": {},
   "outputs": [],
   "source": [
    "import numpy as np\n",
    "import pandas as pd\n",
    "import seaborn as sns \n",
    "import matplotlib.mlab as mlab\n",
    "import matplotlib.pyplot as plt\n",
    "sns.set_style('whitegrid')"
   ]
  },
  {
   "cell_type": "markdown",
   "id": "b4721af5-6c73-4eb8-abd3-cbda7f5e1ed8",
   "metadata": {},
   "source": [
    "# Import Data"
   ]
  },
  {
   "cell_type": "code",
   "execution_count": 3,
   "id": "2efd5e14-63ab-4f2e-8b09-980b98accdea",
   "metadata": {},
   "outputs": [],
   "source": [
    "attrition = pd.read_csv('/Users/sarah/Documents/DSO110_FinalProject/Week2_Data_Wrangling/data/Final_dataset_Attrition.csv')\n",
    "\n",
    "# url: https://www.kaggle.com/singhnproud77/hr-attrition-prediction/notebook\n",
    "# site source"
   ]
  },
  {
   "cell_type": "markdown",
   "id": "2e3835e6-a692-4485-9abf-08c595417c54",
   "metadata": {},
   "source": [
    "# Question Setup\n",
    "\n",
    "* Working with IBM HR attrition data, who is most likely to quit their job at IBM?  \n",
    "* Use findings to help forecast attrition rates and recommend possible solutions to minimize employee turnover and interruptions in work flow where viable."
   ]
  },
  {
   "cell_type": "code",
   "execution_count": null,
   "id": "59436f68-f697-4261-a67e-e71c7399c3ac",
   "metadata": {},
   "outputs": [],
   "source": []
  }
 ],
 "metadata": {
  "kernelspec": {
   "display_name": "Python 3",
   "language": "python",
   "name": "python3"
  },
  "language_info": {
   "codemirror_mode": {
    "name": "ipython",
    "version": 3
   },
   "file_extension": ".py",
   "mimetype": "text/x-python",
   "name": "python",
   "nbconvert_exporter": "python",
   "pygments_lexer": "ipython3",
   "version": "3.8.8"
  }
 },
 "nbformat": 4,
 "nbformat_minor": 5
}
